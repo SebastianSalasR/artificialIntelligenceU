{
 "cells": [
  {
   "cell_type": "markdown",
   "metadata": {},
   "source": [
    "```\n",
    "conda install -c conda-forge scikit-learn pandas\n",
    "```"
   ]
  },
  {
   "cell_type": "code",
   "execution_count": 2,
   "metadata": {},
   "outputs": [],
   "source": [
    "import numpy as np\n",
    "import matplotlib.pyplot as plt\n",
    "import pandas as pd\n",
    "import sklearn"
   ]
  },
  {
   "cell_type": "markdown",
   "metadata": {},
   "source": [
    "### Primera actividad de redes neuronales"
   ]
  },
  {
   "cell_type": "code",
   "execution_count": 3,
   "metadata": {},
   "outputs": [],
   "source": [
    "from sklearn.datasets import load_breast_cancer\n",
    "\n",
    "cancer = load_breast_cancer()\n",
    "X_data = cancer.data\n",
    "y_data = cancer.target"
   ]
  },
  {
   "cell_type": "markdown",
   "metadata": {},
   "source": [
    "(https://scikit-learn.org/stable/modules/generated/sklearn.datasets.load_breast_cancer.html#sklearn.datasets.load_breast_cancer)\n",
    "- En el siguiente bloque explore la data, con el fin de responder a estas preguntas.\n",
    "    - ¿De que se trata el dataset?\n",
    "    - ¿Cuales son las clases de salida?\n",
    "    - ¿A que corresponden las caracteristicas?\n",
    "    - ¿Cuantas caracteristicas y clases de salida hay?\n",
    "    - Etc."
   ]
  },
  {
   "cell_type": "markdown",
   "metadata": {},
   "source": [
    "¿De qué se trata el dataset?\n",
    "\n",
    "El dataset contiene datos sobre muestras de tejido mamario de pacientes. Está diseñado para clasificar las muestras como malignas o benignas.\n",
    "\n",
    "¿Cuáles son las clases de salida?\n",
    "Hay dos clases de salida: 0 para benigno y 1 para maligno.\n",
    "¿A qué corresponden las características?\n",
    "\n",
    "Las características corresponden a varias propiedades del núcleo celular presentes en las muestras de tejido, como el radio, la textura, la perímetro, la área, la suavidad, la compacidad, la concavidad, los puntos cóncavos, la simetría y la dimensión fractal.\n",
    "\n",
    "¿Cuántas características y clases de salida hay?\n",
    "El dataset contiene 30 características y 2 clases de salida."
   ]
  },
  {
   "cell_type": "code",
   "execution_count": 4,
   "metadata": {},
   "outputs": [],
   "source": [
    "import torch\n",
    "from torch.utils.data import random_split,DataLoader,TensorDataset\n",
    "\n",
    "X = torch.tensor(X_data, dtype=torch.float32)\n",
    "Y = torch.tensor(y_data,dtype=torch.long)\n",
    "\n",
    "dataset = TensorDataset(X,Y)\n",
    "\n",
    "train_set, valid_set,test_set = random_split(dataset,[342,113,114],generator=torch.Generator().manual_seed(1234)) ##No cambiar la semilla\n",
    "train_loader = DataLoader(train_set, shuffle=True, batch_size=32)\n",
    "valid_loader = DataLoader(valid_set, shuffle=False, batch_size=128)\n",
    "test_loader = DataLoader(test_set, shuffle=False, batch_size=128)"
   ]
  },
  {
   "cell_type": "markdown",
   "metadata": {},
   "source": [
    "## Implentación de la Red Neuronal\n",
    "- En el siguiente bloque implemente el modelo que utilizará su red neuronal para predecir si un paciente tiene cáncer o no, teniendo en cuenta sus caracteristicas."
   ]
  },
  {
   "cell_type": "code",
   "execution_count": 5,
   "metadata": {},
   "outputs": [],
   "source": [
    "import torch.nn as nn\n",
    "\n",
    "class BreastCancerModel(nn.Module):\n",
    "    def __init__(self, input_dim, hidden_dim, output_dim):\n",
    "        super(BreastCancerModel, self).__init__()\n",
    "        self.hidden = nn.Linear(input_dim, hidden_dim)\n",
    "        self.output = nn.Linear(hidden_dim, output_dim)\n",
    "        self.activation = nn.ReLU()\n",
    "\n",
    "    def forward(self, x):\n",
    "        x = self.hidden(x)\n",
    "        x = self.activation(x)\n",
    "        x = self.output(x)\n",
    "        return x"
   ]
  },
  {
   "cell_type": "markdown",
   "metadata": {},
   "source": [
    "- En el siguiente bloque cree una instancia de su red neuronal definida anteriormente y defina una función de pérdida y optimizador adecuados:"
   ]
  },
  {
   "cell_type": "code",
   "execution_count": 6,
   "metadata": {},
   "outputs": [],
   "source": [
    "model = BreastCancerModel(input_dim=30, hidden_dim=16, output_dim=2)\n",
    "criterion = nn.CrossEntropyLoss()\n",
    "optimizer = torch.optim.Adam(model.parameters(), lr=0.001)"
   ]
  },
  {
   "cell_type": "markdown",
   "metadata": {},
   "source": [
    "- Responda: \n",
    "    - ¿Porqué eligió esa función de pérdida?\n",
    "        - CrossEntropyLoss se usa para problemas de clasificación multiclase como este.\n",
    "    - Elija 2 optimizadores populares y describalos, luego explique porqué elige uno de los 2.\n",
    "\n",
    "        -SGD o Stochastic Gradient Descent: Es un optimizador que actualiza los parámetros en la dirección del gradiente negativo de la función de pérdida.\n",
    "\n",
    "        -Adam o Adaptive Moment Estimation: Combina las ventajas de los métodos AdaGrad y RMSProp. Es eficiente y requiere menos ajuste de parámetros.  \n",
    "        \n",
    "Elegimos Adam porque generalmente converge más rápido y pide menos ajustes de hiperparametros comparado a SGD."
   ]
  },
  {
   "cell_type": "markdown",
   "metadata": {},
   "source": [
    "- En el siguiente bloque programe el entrenamiento de su red neuronal"
   ]
  },
  {
   "cell_type": "code",
   "execution_count": 7,
   "metadata": {},
   "outputs": [
    {
     "name": "stdout",
     "output_type": "stream",
     "text": [
      "Epoch 1, Training Loss: 4.9891, Validation Loss: 2.1315\n",
      "Epoch 2, Training Loss: 1.4447, Validation Loss: 1.0106\n",
      "Epoch 3, Training Loss: 0.9712, Validation Loss: 0.6435\n",
      "Epoch 4, Training Loss: 0.7056, Validation Loss: 0.5994\n",
      "Epoch 5, Training Loss: 0.5340, Validation Loss: 0.6206\n",
      "Epoch 6, Training Loss: 0.5502, Validation Loss: 0.5598\n",
      "Epoch 7, Training Loss: 0.4521, Validation Loss: 0.5791\n",
      "Epoch 8, Training Loss: 0.4259, Validation Loss: 0.4769\n",
      "Epoch 9, Training Loss: 0.4139, Validation Loss: 0.5766\n",
      "Epoch 10, Training Loss: 0.3717, Validation Loss: 0.4497\n",
      "Epoch 11, Training Loss: 0.4315, Validation Loss: 0.5168\n",
      "Epoch 12, Training Loss: 0.3343, Validation Loss: 0.4330\n",
      "Epoch 13, Training Loss: 0.3288, Validation Loss: 0.4335\n",
      "Epoch 14, Training Loss: 0.3229, Validation Loss: 0.4236\n",
      "Epoch 15, Training Loss: 0.3296, Validation Loss: 0.4623\n",
      "Epoch 16, Training Loss: 0.3231, Validation Loss: 0.3943\n",
      "Epoch 17, Training Loss: 0.3390, Validation Loss: 0.5663\n",
      "Epoch 18, Training Loss: 0.3399, Validation Loss: 0.3804\n",
      "Epoch 19, Training Loss: 0.3023, Validation Loss: 0.4727\n",
      "Epoch 20, Training Loss: 0.3170, Validation Loss: 0.3777\n",
      "Epoch 21, Training Loss: 0.2862, Validation Loss: 0.4223\n",
      "Epoch 22, Training Loss: 0.2910, Validation Loss: 0.3771\n",
      "Epoch 23, Training Loss: 0.2822, Validation Loss: 0.3569\n",
      "Epoch 24, Training Loss: 0.2976, Validation Loss: 0.4167\n",
      "Epoch 25, Training Loss: 0.2786, Validation Loss: 0.3752\n",
      "Epoch 26, Training Loss: 0.2751, Validation Loss: 0.3896\n",
      "Epoch 27, Training Loss: 0.2809, Validation Loss: 0.3389\n",
      "Epoch 28, Training Loss: 0.2727, Validation Loss: 0.4050\n",
      "Epoch 29, Training Loss: 0.2698, Validation Loss: 0.3209\n",
      "Epoch 30, Training Loss: 0.2882, Validation Loss: 0.3736\n",
      "Epoch 31, Training Loss: 0.2610, Validation Loss: 0.3578\n",
      "Epoch 32, Training Loss: 0.2658, Validation Loss: 0.4536\n",
      "Epoch 33, Training Loss: 0.3051, Validation Loss: 0.3204\n",
      "Epoch 34, Training Loss: 0.3056, Validation Loss: 0.3115\n",
      "Epoch 35, Training Loss: 0.2933, Validation Loss: 0.3469\n",
      "Epoch 36, Training Loss: 0.2757, Validation Loss: 0.4079\n",
      "Epoch 37, Training Loss: 0.3336, Validation Loss: 0.2881\n",
      "Epoch 38, Training Loss: 0.2312, Validation Loss: 0.3691\n",
      "Epoch 39, Training Loss: 0.2456, Validation Loss: 0.3178\n",
      "Epoch 40, Training Loss: 0.2406, Validation Loss: 0.3286\n",
      "Epoch 41, Training Loss: 0.2541, Validation Loss: 0.3086\n",
      "Epoch 42, Training Loss: 0.2542, Validation Loss: 0.3849\n",
      "Epoch 43, Training Loss: 0.2426, Validation Loss: 0.3013\n",
      "Epoch 44, Training Loss: 0.2659, Validation Loss: 0.4887\n",
      "Epoch 45, Training Loss: 0.2946, Validation Loss: 0.2934\n",
      "Epoch 46, Training Loss: 0.2430, Validation Loss: 0.2624\n",
      "Epoch 47, Training Loss: 0.2368, Validation Loss: 0.2881\n",
      "Epoch 48, Training Loss: 0.2650, Validation Loss: 0.2585\n",
      "Epoch 49, Training Loss: 0.2374, Validation Loss: 0.2593\n",
      "Epoch 50, Training Loss: 0.2248, Validation Loss: 0.2852\n",
      "Epoch 51, Training Loss: 0.2361, Validation Loss: 0.2460\n",
      "Epoch 52, Training Loss: 0.2172, Validation Loss: 0.2807\n",
      "Epoch 53, Training Loss: 0.2223, Validation Loss: 0.2409\n",
      "Epoch 54, Training Loss: 0.2312, Validation Loss: 0.2433\n",
      "Epoch 55, Training Loss: 0.2353, Validation Loss: 0.3965\n",
      "Epoch 56, Training Loss: 0.2157, Validation Loss: 0.2329\n",
      "Epoch 57, Training Loss: 0.2145, Validation Loss: 0.2627\n",
      "Epoch 58, Training Loss: 0.2103, Validation Loss: 0.2442\n",
      "Epoch 59, Training Loss: 0.2144, Validation Loss: 0.2356\n",
      "Epoch 60, Training Loss: 0.2181, Validation Loss: 0.2866\n",
      "Epoch 61, Training Loss: 0.2079, Validation Loss: 0.2446\n",
      "Epoch 62, Training Loss: 0.2489, Validation Loss: 0.2937\n",
      "Epoch 63, Training Loss: 0.2900, Validation Loss: 0.2368\n",
      "Epoch 64, Training Loss: 0.2291, Validation Loss: 0.5373\n",
      "Epoch 65, Training Loss: 0.2228, Validation Loss: 0.2173\n",
      "Epoch 66, Training Loss: 0.2292, Validation Loss: 0.2159\n",
      "Epoch 67, Training Loss: 0.2034, Validation Loss: 0.3279\n",
      "Epoch 68, Training Loss: 0.2371, Validation Loss: 0.2909\n",
      "Epoch 69, Training Loss: 0.2073, Validation Loss: 0.2534\n",
      "Epoch 70, Training Loss: 0.1939, Validation Loss: 0.2816\n",
      "Epoch 71, Training Loss: 0.2209, Validation Loss: 0.2287\n",
      "Epoch 72, Training Loss: 0.1963, Validation Loss: 0.2077\n",
      "Epoch 73, Training Loss: 0.1985, Validation Loss: 0.2515\n",
      "Epoch 74, Training Loss: 0.1931, Validation Loss: 0.2053\n",
      "Epoch 75, Training Loss: 0.1997, Validation Loss: 0.2422\n",
      "Epoch 76, Training Loss: 0.1906, Validation Loss: 0.2193\n",
      "Epoch 77, Training Loss: 0.1947, Validation Loss: 0.2221\n",
      "Epoch 78, Training Loss: 0.2001, Validation Loss: 0.2005\n",
      "Epoch 79, Training Loss: 0.2126, Validation Loss: 0.1990\n",
      "Epoch 80, Training Loss: 0.2166, Validation Loss: 0.1985\n",
      "Epoch 81, Training Loss: 0.2154, Validation Loss: 0.1997\n",
      "Epoch 82, Training Loss: 0.2039, Validation Loss: 0.2213\n",
      "Epoch 83, Training Loss: 0.1918, Validation Loss: 0.2037\n",
      "Epoch 84, Training Loss: 0.1939, Validation Loss: 0.1983\n",
      "Epoch 85, Training Loss: 0.2033, Validation Loss: 0.2244\n",
      "Epoch 86, Training Loss: 0.1937, Validation Loss: 0.2625\n",
      "Epoch 87, Training Loss: 0.1918, Validation Loss: 0.2547\n",
      "Epoch 88, Training Loss: 0.2167, Validation Loss: 0.2235\n",
      "Epoch 89, Training Loss: 0.2017, Validation Loss: 0.1953\n",
      "Epoch 90, Training Loss: 0.2099, Validation Loss: 0.2790\n",
      "Epoch 91, Training Loss: 0.2196, Validation Loss: 0.2651\n",
      "Epoch 92, Training Loss: 0.1915, Validation Loss: 0.1877\n",
      "Epoch 93, Training Loss: 0.2024, Validation Loss: 0.1868\n",
      "Epoch 94, Training Loss: 0.1872, Validation Loss: 0.2020\n",
      "Epoch 95, Training Loss: 0.1807, Validation Loss: 0.1903\n",
      "Epoch 96, Training Loss: 0.1779, Validation Loss: 0.3294\n",
      "Epoch 97, Training Loss: 0.1959, Validation Loss: 0.2151\n",
      "Epoch 98, Training Loss: 0.1936, Validation Loss: 0.2236\n",
      "Epoch 99, Training Loss: 0.2005, Validation Loss: 0.1866\n",
      "Epoch 100, Training Loss: 0.2033, Validation Loss: 0.2155\n"
     ]
    }
   ],
   "source": [
    "# Listas para guardar las pérdidas\n",
    "train_losses = []\n",
    "valid_losses = []\n",
    "\n",
    "# Entrenamiento del modelo\n",
    "num_epochs = 100\n",
    "for epoch in range(num_epochs):\n",
    "    model.train()\n",
    "    train_loss = 0\n",
    "    for batch_x, batch_y in train_loader:\n",
    "        optimizer.zero_grad()\n",
    "        outputs = model(batch_x)\n",
    "        loss = criterion(outputs, batch_y)\n",
    "        loss.backward()\n",
    "        optimizer.step()\n",
    "        train_loss += loss.item()\n",
    "    \n",
    "    # Validación del modelo\n",
    "    model.eval()\n",
    "    valid_loss = 0\n",
    "    with torch.no_grad():\n",
    "        for batch_x, batch_y in valid_loader:\n",
    "            outputs = model(batch_x)\n",
    "            valid_loss += criterion(outputs, batch_y).item()\n",
    "    \n",
    "    # Promedio de pérdidas para esta época\n",
    "    train_loss /= len(train_loader)\n",
    "    valid_loss /= len(valid_loader)\n",
    "    \n",
    "    train_losses.append(train_loss)\n",
    "    valid_losses.append(valid_loss)\n",
    "    \n",
    "    print(f'Epoch {epoch+1}, Training Loss: {train_loss:.4f}, Validation Loss: {valid_loss:.4f}')\n",
    "\n",
    "    "
   ]
  },
  {
   "cell_type": "markdown",
   "metadata": {},
   "source": [
    "- En el sigueinte bloque muestre el gráfico de entrenamiento y validación.\n",
    "- ¿El entrenamiento de su red neuronal está \"listo\"?"
   ]
  },
  {
   "cell_type": "code",
   "execution_count": 8,
   "metadata": {},
   "outputs": [
    {
     "data": {
      "image/png": "[encoded data removed]",
      "text/plain": [
       "<Figure size 640x480 with 1 Axes>"
      ]
     },
     "metadata": {},
     "output_type": "display_data"
    }
   ],
   "source": [
    "plt.plot(train_losses, label='Training Loss')\n",
    "plt.plot(valid_losses, label='Validation Loss')\n",
    "plt.xlabel('Epoch')\n",
    "plt.ylabel('Loss')\n",
    "plt.legend()\n",
    "plt.title('Training and Validation Loss')\n",
    "plt.show()\n",
    "\n"
   ]
  },
  {
   "cell_type": "markdown",
   "metadata": {},
   "source": [
    "En el momento de la ejecución, se podría decir que el entrenamiento está listo ya que la pérdida de entrenamiento y validación convergen."
   ]
  },
  {
   "cell_type": "markdown",
   "metadata": {},
   "source": [
    "- En el siguiente bloque evalue que tan bueno es su modelo mediante diferentes métricas"
   ]
  },
  {
   "cell_type": "code",
   "execution_count": 9,
   "metadata": {},
   "outputs": [
    {
     "name": "stdout",
     "output_type": "stream",
     "text": [
      "Confusion Matrix:\n",
      "[[33  1]\n",
      " [ 5 75]]\n",
      "Classification Report:\n",
      "              precision    recall  f1-score   support\n",
      "\n",
      "           0       0.87      0.97      0.92        34\n",
      "           1       0.99      0.94      0.96        80\n",
      "\n",
      "    accuracy                           0.95       114\n",
      "   macro avg       0.93      0.95      0.94       114\n",
      "weighted avg       0.95      0.95      0.95       114\n",
      "\n",
      "Accuracy: 0.9473684210526315\n"
     ]
    }
   ],
   "source": [
    "from sklearn.metrics import confusion_matrix, classification_report, accuracy_score\n",
    "\n",
    "# Evaluar el modelo en el conjunto de prueba\n",
    "model.eval()\n",
    "all_preds = []\n",
    "all_labels = []\n",
    "with torch.no_grad():\n",
    "    for X_batch, y_batch in test_loader:\n",
    "        outputs = model(X_batch)\n",
    "        _, preds = torch.max(outputs, 1)\n",
    "        all_preds.extend(preds.numpy())\n",
    "        all_labels.extend(y_batch.numpy())\n",
    "\n",
    "# Calcular las métricas\n",
    "conf_matrix = confusion_matrix(all_labels, all_preds)\n",
    "class_report = classification_report(all_labels, all_preds)\n",
    "accuracy = accuracy_score(all_labels, all_preds)\n",
    "\n",
    "print(f'Confusion Matrix:\\n{conf_matrix}')\n",
    "print(f'Classification Report:\\n{class_report}')\n",
    "print(f'Accuracy: {accuracy}')"
   ]
  },
  {
   "cell_type": "markdown",
   "metadata": {},
   "source": [
    "- Concluya sobre su trabajo.  \n",
    "- Responda\n",
    "    - ¿Qué tan confiable sería su modelo en un entorno clínico? \n",
    "    - ¿Qué haría para mejorarlo?\n",
    "    - Sobre la matriz de confusión, ¿Alguno de sus elementos son más importantes que otros en este caso?\n",
    "    ¿Que significaría el aumento de FN o FP en este caso? \n",
    "- Investigue sobre alguna arquitectura de red neuronal distinta a la utilizada en este trabajo, describala y explique en que casos sería útil.\n",
    "\n"
   ]
  },
  {
   "cell_type": "markdown",
   "metadata": {},
   "source": [
    "**¿Qué tan confiable sería su modelo en un entorno clínico?**\n",
    "\n",
    "El modelo muestra un rendimiento bastante bueno, con una precisión del 91% al momento de la ejecución. Esto sugiere que podría ser una herramienta útil de apoyo en un entorno clínico. Sin embargo, aún se puede mejorar, especialmente considerando la importancia de los diagnósticos de cáncer.\n",
    "\n",
    "**¿Qué haría para mejorarlo?**\n",
    "\n",
    "Podría mejorar recolectando más datos, tratar de reducir más los falsos negativos, ajustanar los hiperparámetros y probando arquitecturas de red más avanzadas.\n",
    "\n",
    "**Matriz de confusión: ¿Alguno de sus elementos son más importantes que otros en este caso?**\n",
    "\n",
    "Sí, los falsos negativos (FN) son especialmente importantes porque podrían significar que no se detecta un cáncer.\n",
    "\n",
    "**¿Qué significaría el aumento de FN o FP en este caso?**\n",
    "\n",
    "-Aumento de FN: Sería muy grave. Significaría que más casos de cáncer no se están detectando, lo que podría resultar en retrasos en el tratamiento y peores pronósticos para los pacientes.\n",
    "\n",
    "-Aumento de FP: Aunque menos crítico, llevaría a más diagnósticos incorrectos de cáncer. Esto causaría ansiedad innecesaria en los pacientes, costos adicionales en pruebas de seguimiento, y potencialmente procedimientos médicos innecesarios."
   ]
  },
  {
   "cell_type": "markdown",
   "metadata": {},
   "source": [
    "### Pregunta Bonus\n",
    "- ¿Cúal es la principal limitación de las redes neuronales comparado al cerebro humano?"
   ]
  },
  {
   "cell_type": "markdown",
   "metadata": {},
   "source": [
    "La principal limitación de las redes neuronales comparadas con el cerebro humano es su falta de flexibilidad y capacidad de generalización. Ya que que el cerebro humano puede aprender rápidamente de pocos ejemplos y adaptarse fácilmente a nuevas situaciones, las redes neuronales se limitan a tareas específicas para las que fueron entrenadas y requieren grandes cantidades de datos. Además, el cerebro humano es obviamente superior en razonamiento abstracto, comprensión contextual y eficiencia energética. Estas diferencias hacen que las redes neuronales aún estén lejos de replicar la flexibilidad del cerebro humano."
   ]
  }
 ],
 "metadata": {
  "kernelspec": {
   "display_name": "transformer",
   "language": "python",
   "name": "python3"
  },
  "language_info": {
   "codemirror_mode": {
    "name": "ipython",
    "version": 3
   },
   "file_extension": ".py",
   "mimetype": "text/x-python",
   "name": "python",
   "nbconvert_exporter": "python",
   "pygments_lexer": "ipython3",
   "version": "3.12.4"
  }
 },
 "nbformat": 4,
 "nbformat_minor": 2
}
